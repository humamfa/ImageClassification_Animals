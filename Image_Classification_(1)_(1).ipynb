{
  "cells": [
    {
      "cell_type": "markdown",
      "metadata": {
        "id": "view-in-github",
        "colab_type": "text"
      },
      "source": [
        "<a href=\"https://colab.research.google.com/github/humamfa/ImageClassification_Animals/blob/main/Image_Classification_(1)_(1).ipynb\" target=\"_parent\"><img src=\"https://colab.research.google.com/assets/colab-badge.svg\" alt=\"Open In Colab\"/></a>"
      ]
    },
    {
      "cell_type": "code",
      "execution_count": null,
      "metadata": {
        "colab": {
          "base_uri": "https://localhost:8080/"
        },
        "id": "5BrDmeUQztwK",
        "outputId": "a3744f30-a543-4ef8-fc36-9e1e526dcf67"
      },
      "outputs": [
        {
          "output_type": "stream",
          "name": "stdout",
          "text": [
            "Collecting opendatasets\n",
            "  Downloading opendatasets-0.1.22-py3-none-any.whl (15 kB)\n",
            "Requirement already satisfied: tqdm in /usr/local/lib/python3.10/dist-packages (from opendatasets) (4.66.1)\n",
            "Requirement already satisfied: kaggle in /usr/local/lib/python3.10/dist-packages (from opendatasets) (1.5.16)\n",
            "Requirement already satisfied: click in /usr/local/lib/python3.10/dist-packages (from opendatasets) (8.1.7)\n",
            "Requirement already satisfied: six>=1.10 in /usr/local/lib/python3.10/dist-packages (from kaggle->opendatasets) (1.16.0)\n",
            "Requirement already satisfied: certifi in /usr/local/lib/python3.10/dist-packages (from kaggle->opendatasets) (2023.11.17)\n",
            "Requirement already satisfied: python-dateutil in /usr/local/lib/python3.10/dist-packages (from kaggle->opendatasets) (2.8.2)\n",
            "Requirement already satisfied: requests in /usr/local/lib/python3.10/dist-packages (from kaggle->opendatasets) (2.31.0)\n",
            "Requirement already satisfied: python-slugify in /usr/local/lib/python3.10/dist-packages (from kaggle->opendatasets) (8.0.1)\n",
            "Requirement already satisfied: urllib3 in /usr/local/lib/python3.10/dist-packages (from kaggle->opendatasets) (2.0.7)\n",
            "Requirement already satisfied: bleach in /usr/local/lib/python3.10/dist-packages (from kaggle->opendatasets) (6.1.0)\n",
            "Requirement already satisfied: webencodings in /usr/local/lib/python3.10/dist-packages (from bleach->kaggle->opendatasets) (0.5.1)\n",
            "Requirement already satisfied: text-unidecode>=1.3 in /usr/local/lib/python3.10/dist-packages (from python-slugify->kaggle->opendatasets) (1.3)\n",
            "Requirement already satisfied: charset-normalizer<4,>=2 in /usr/local/lib/python3.10/dist-packages (from requests->kaggle->opendatasets) (3.3.2)\n",
            "Requirement already satisfied: idna<4,>=2.5 in /usr/local/lib/python3.10/dist-packages (from requests->kaggle->opendatasets) (3.6)\n",
            "Installing collected packages: opendatasets\n",
            "Successfully installed opendatasets-0.1.22\n"
          ]
        },
        {
          "output_type": "stream",
          "name": "stderr",
          "text": [
            "[nltk_data] Downloading package wordnet to /root/nltk_data...\n"
          ]
        },
        {
          "output_type": "stream",
          "name": "stdout",
          "text": [
            "Collecting split-folders\n",
            "  Downloading split_folders-0.5.1-py3-none-any.whl (8.4 kB)\n",
            "Installing collected packages: split-folders\n",
            "Successfully installed split-folders-0.5.1\n"
          ]
        }
      ],
      "source": [
        "import pandas as pd\n",
        "import numpy as np\n",
        "import matplotlib.pyplot as plt\n",
        "from nltk.tokenize import word_tokenize\n",
        "from nltk.stem import WordNetLemmatizer\n",
        "from nltk.stem import PorterStemmer\n",
        "from tqdm import tqdm\n",
        "from sklearn.model_selection import train_test_split\n",
        "from keras.preprocessing import sequence\n",
        "from keras.preprocessing.text import Tokenizer\n",
        "from keras.callbacks import EarlyStopping\n",
        "import matplotlib.pyplot as plt\n",
        "import tensorflow as tf\n",
        "!pip install opendatasets\n",
        "import opendatasets as od\n",
        "import nltk\n",
        "nltk.download('wordnet')\n",
        "import pickle\n",
        "!pip install split-folders\n",
        "import splitfolders\n",
        "import zipfile,os\n",
        "from tensorflow.keras.preprocessing.image import ImageDataGenerator\n",
        "from tensorflow import keras\n",
        "from tensorflow.keras import layers\n",
        "from keras.preprocessing import sequence\n",
        "from keras.models import Sequential\n",
        "from keras.layers import Dense, Dropout, Embedding, LSTM, Bidirectional, Reshape, SpatialDropout1D\n",
        "from keras.datasets import imdb"
      ]
    },
    {
      "cell_type": "code",
      "execution_count": null,
      "metadata": {
        "colab": {
          "base_uri": "https://localhost:8080/"
        },
        "id": "Cw83DpN51SC_",
        "outputId": "f05cfdb1-e4a2-44df-9522-e3d199347b1f"
      },
      "outputs": [
        {
          "output_type": "stream",
          "name": "stdout",
          "text": [
            "Please provide your Kaggle credentials to download this dataset. Learn more: http://bit.ly/kaggle-creds\n",
            "Your Kaggle username: humamfa\n",
            "Your Kaggle Key: ··········\n",
            "Downloading parasite-dataset.zip to ./parasite-dataset\n"
          ]
        },
        {
          "output_type": "stream",
          "name": "stderr",
          "text": [
            "100%|██████████| 160M/160M [00:04<00:00, 36.0MB/s]\n"
          ]
        },
        {
          "output_type": "stream",
          "name": "stdout",
          "text": [
            "\n"
          ]
        }
      ],
      "source": [
        "od.download('https://www.kaggle.com/datasets/ahmedxc4/parasite-dataset')"
      ]
    },
    {
      "cell_type": "code",
      "execution_count": null,
      "metadata": {
        "id": "1EYSPcQU75mT"
      },
      "outputs": [],
      "source": [
        "base_dir = '/content/parasite-dataset/parasite-dataset'\n",
        "train_dir = '/content/output/train'\n",
        "validation_dir = '/content/output/val'"
      ]
    },
    {
      "cell_type": "code",
      "execution_count": null,
      "metadata": {
        "colab": {
          "base_uri": "https://localhost:8080/"
        },
        "id": "TBq2hbxM1R8n",
        "outputId": "a65a6b8e-5281-4152-c045-738c9e06aa0e"
      },
      "outputs": [
        {
          "output_type": "stream",
          "name": "stdout",
          "text": [
            "Requirement already satisfied: split-folders in /usr/local/lib/python3.10/dist-packages (0.5.1)\n"
          ]
        },
        {
          "output_type": "stream",
          "name": "stderr",
          "text": [
            "Copying files: 34298 files [00:07, 4589.34 files/s]\n"
          ]
        }
      ],
      "source": [
        "%pip install split-folders\n",
        "import splitfolders\n",
        "\n",
        "splitfolders.ratio(base_dir, output=\"output\", seed=6666, ratio=(.8, .2), group_prefix=None)"
      ]
    },
    {
      "cell_type": "code",
      "execution_count": null,
      "metadata": {
        "id": "Rmv4BZ1I6YNS"
      },
      "outputs": [],
      "source": [
        "train_datagen = ImageDataGenerator(\n",
        "                    rescale=1./255,\n",
        "                    rotation_range=20,\n",
        "                    horizontal_flip=True,\n",
        "                    shear_range = 0.2,\n",
        "                    validation_split = 0.2,\n",
        "                    fill_mode = 'wrap',\n",
        "                    )\n",
        "\n",
        "validation_datagen = ImageDataGenerator(\n",
        "                    rescale=1./255,\n",
        "                    rotation_range=20,\n",
        "                    horizontal_flip=True,\n",
        "                    shear_range = 0.2,\n",
        "                    fill_mode = 'nearest',)"
      ]
    },
    {
      "cell_type": "code",
      "execution_count": null,
      "metadata": {
        "colab": {
          "base_uri": "https://localhost:8080/"
        },
        "id": "uzQLicsl9Zwp",
        "outputId": "c8bb12cb-3dfa-480f-b1ea-b7c93fba2d5e"
      },
      "outputs": [
        {
          "output_type": "stream",
          "name": "stdout",
          "text": [
            "Found 27435 images belonging to 9 classes.\n",
            "Found 6863 images belonging to 9 classes.\n"
          ]
        }
      ],
      "source": [
        "train_generator = train_datagen.flow_from_directory(\n",
        "        train_dir,\n",
        "        target_size=(100, 150),\n",
        "        batch_size=64,\n",
        "        class_mode='categorical')\n",
        "\n",
        "validation_generator = validation_datagen.flow_from_directory(\n",
        "        validation_dir,\n",
        "        target_size=(100, 150),\n",
        "        batch_size=64,\n",
        "        class_mode='categorical')"
      ]
    },
    {
      "cell_type": "code",
      "execution_count": null,
      "metadata": {
        "colab": {
          "base_uri": "https://localhost:8080/"
        },
        "id": "qYMeOYMs9Zsd",
        "outputId": "1a8e1e6b-d3c8-4c86-d282-f620f487d104"
      },
      "outputs": [
        {
          "output_type": "stream",
          "name": "stdout",
          "text": [
            "Model: \"sequential_1\"\n",
            "_________________________________________________________________\n",
            " Layer (type)                Output Shape              Param #   \n",
            "=================================================================\n",
            " conv2d_4 (Conv2D)           (None, 98, 148, 32)       896       \n",
            "                                                                 \n",
            " max_pooling2d_4 (MaxPoolin  (None, 49, 74, 32)        0         \n",
            " g2D)                                                            \n",
            "                                                                 \n",
            " conv2d_5 (Conv2D)           (None, 47, 72, 64)        18496     \n",
            "                                                                 \n",
            " max_pooling2d_5 (MaxPoolin  (None, 23, 36, 64)        0         \n",
            " g2D)                                                            \n",
            "                                                                 \n",
            " conv2d_6 (Conv2D)           (None, 21, 34, 128)       73856     \n",
            "                                                                 \n",
            " max_pooling2d_6 (MaxPoolin  (None, 10, 17, 128)       0         \n",
            " g2D)                                                            \n",
            "                                                                 \n",
            " conv2d_7 (Conv2D)           (None, 8, 15, 256)        295168    \n",
            "                                                                 \n",
            " max_pooling2d_7 (MaxPoolin  (None, 4, 7, 256)         0         \n",
            " g2D)                                                            \n",
            "                                                                 \n",
            " flatten_1 (Flatten)         (None, 7168)              0         \n",
            "                                                                 \n",
            " dropout_1 (Dropout)         (None, 7168)              0         \n",
            "                                                                 \n",
            " dense_2 (Dense)             (None, 256)               1835264   \n",
            "                                                                 \n",
            " dense_3 (Dense)             (None, 9)                 2313      \n",
            "                                                                 \n",
            "=================================================================\n",
            "Total params: 2225993 (8.49 MB)\n",
            "Trainable params: 2225993 (8.49 MB)\n",
            "Non-trainable params: 0 (0.00 Byte)\n",
            "_________________________________________________________________\n"
          ]
        }
      ],
      "source": [
        "model = tf.keras.models.Sequential([\n",
        "    tf.keras.layers.Conv2D(32, (3,3), activation='relu', input_shape=(100, 150, 3)),\n",
        "    tf.keras.layers.MaxPooling2D(2, 2),\n",
        "    tf.keras.layers.Conv2D(64, (3,3), activation='relu'),\n",
        "    tf.keras.layers.MaxPooling2D(2,2),\n",
        "    tf.keras.layers.Conv2D(128, (3,3), activation='relu'),\n",
        "    tf.keras.layers.MaxPooling2D(2,2),\n",
        "    tf.keras.layers.Conv2D(256, (3,3), activation='relu'),\n",
        "    tf.keras.layers.MaxPooling2D(2,2),\n",
        "    tf.keras.layers.Flatten(),\n",
        "    tf.keras.layers.Dropout(0.4),\n",
        "    tf.keras.layers.Dense(256, activation='relu'),\n",
        "    tf.keras.layers.Dense(9, activation='softmax')\n",
        "])\n",
        "\n",
        "model.summary()"
      ]
    },
    {
      "cell_type": "code",
      "execution_count": null,
      "metadata": {
        "colab": {
          "base_uri": "https://localhost:8080/"
        },
        "id": "1v_Y8xVt9nGr",
        "outputId": "79728091-56f7-4f10-ad4d-9e9ea35a26f7"
      },
      "outputs": [
        {
          "output_type": "stream",
          "name": "stdout",
          "text": [
            "Epoch 1/1000\n",
            "35/35 - 23s - loss: 1.7884 - accuracy: 0.3054 - val_loss: 1.6443 - val_accuracy: 0.3396 - 23s/epoch - 670ms/step\n",
            "Epoch 2/1000\n",
            "35/35 - 19s - loss: 1.5452 - accuracy: 0.4451 - val_loss: 1.4934 - val_accuracy: 0.4313 - 19s/epoch - 554ms/step\n",
            "Epoch 3/1000\n",
            "35/35 - 21s - loss: 1.3024 - accuracy: 0.5683 - val_loss: 1.1985 - val_accuracy: 0.6521 - 21s/epoch - 593ms/step\n",
            "Epoch 4/1000\n",
            "35/35 - 15s - loss: 1.1298 - accuracy: 0.6348 - val_loss: 0.9718 - val_accuracy: 0.6500 - 15s/epoch - 442ms/step\n",
            "Epoch 5/1000\n",
            "35/35 - 15s - loss: 0.9606 - accuracy: 0.6866 - val_loss: 0.8416 - val_accuracy: 0.7333 - 15s/epoch - 437ms/step\n",
            "Epoch 6/1000\n",
            "35/35 - 15s - loss: 0.8729 - accuracy: 0.7179 - val_loss: 0.8886 - val_accuracy: 0.6760 - 15s/epoch - 421ms/step\n",
            "Epoch 7/1000\n",
            "35/35 - 15s - loss: 0.8031 - accuracy: 0.7402 - val_loss: 0.7360 - val_accuracy: 0.7583 - 15s/epoch - 441ms/step\n",
            "Epoch 8/1000\n",
            "35/35 - 16s - loss: 0.7562 - accuracy: 0.7472 - val_loss: 0.6626 - val_accuracy: 0.7750 - 16s/epoch - 453ms/step\n",
            "Epoch 9/1000\n",
            "35/35 - 15s - loss: 0.6758 - accuracy: 0.7763 - val_loss: 0.6206 - val_accuracy: 0.7917 - 15s/epoch - 421ms/step\n",
            "Epoch 10/1000\n",
            "35/35 - 15s - loss: 0.6545 - accuracy: 0.7853 - val_loss: 0.5766 - val_accuracy: 0.7969 - 15s/epoch - 421ms/step\n",
            "Epoch 11/1000\n",
            "35/35 - 16s - loss: 0.6207 - accuracy: 0.7920 - val_loss: 0.5881 - val_accuracy: 0.7875 - 16s/epoch - 443ms/step\n",
            "Epoch 12/1000\n",
            "35/35 - 15s - loss: 0.5851 - accuracy: 0.8031 - val_loss: 0.5656 - val_accuracy: 0.7875 - 15s/epoch - 439ms/step\n",
            "Epoch 13/1000\n",
            "35/35 - 15s - loss: 0.6063 - accuracy: 0.7897 - val_loss: 0.5753 - val_accuracy: 0.8031 - 15s/epoch - 442ms/step\n",
            "Epoch 14/1000\n",
            "35/35 - 17s - loss: 0.5455 - accuracy: 0.8179 - val_loss: 0.5032 - val_accuracy: 0.8302 - 17s/epoch - 483ms/step\n",
            "Epoch 15/1000\n",
            "35/35 - 15s - loss: 0.5431 - accuracy: 0.8188 - val_loss: 0.4605 - val_accuracy: 0.8469 - 15s/epoch - 421ms/step\n",
            "Epoch 16/1000\n",
            "35/35 - 15s - loss: 0.5021 - accuracy: 0.8237 - val_loss: 0.4587 - val_accuracy: 0.8552 - 15s/epoch - 437ms/step\n",
            "Epoch 17/1000\n",
            "35/35 - 15s - loss: 0.4794 - accuracy: 0.8388 - val_loss: 0.4008 - val_accuracy: 0.8615 - 15s/epoch - 430ms/step\n",
            "Epoch 18/1000\n",
            "35/35 - 15s - loss: 0.4565 - accuracy: 0.8491 - val_loss: 0.3986 - val_accuracy: 0.8615 - 15s/epoch - 437ms/step\n",
            "Epoch 19/1000\n",
            "35/35 - 15s - loss: 0.4569 - accuracy: 0.8432 - val_loss: 0.3522 - val_accuracy: 0.8854 - 15s/epoch - 440ms/step\n",
            "Epoch 20/1000\n",
            "35/35 - 15s - loss: 0.4130 - accuracy: 0.8567 - val_loss: 0.3935 - val_accuracy: 0.8615 - 15s/epoch - 420ms/step\n",
            "Epoch 21/1000\n",
            "35/35 - 14s - loss: 0.3870 - accuracy: 0.8666 - val_loss: 0.3618 - val_accuracy: 0.8854 - 14s/epoch - 413ms/step\n",
            "Epoch 22/1000\n",
            "35/35 - 20s - loss: 0.3708 - accuracy: 0.8754 - val_loss: 0.3268 - val_accuracy: 0.9052 - 20s/epoch - 569ms/step\n",
            "Epoch 23/1000\n",
            "35/35 - 15s - loss: 0.3579 - accuracy: 0.8790 - val_loss: 0.3087 - val_accuracy: 0.8906 - 15s/epoch - 431ms/step\n",
            "Epoch 24/1000\n",
            "35/35 - 15s - loss: 0.4011 - accuracy: 0.8665 - val_loss: 0.2683 - val_accuracy: 0.9094 - 15s/epoch - 440ms/step\n",
            "Epoch 25/1000\n",
            "35/35 - 19s - loss: 0.3626 - accuracy: 0.8792 - val_loss: 0.2581 - val_accuracy: 0.9125 - 19s/epoch - 546ms/step\n",
            "Epoch 26/1000\n",
            "35/35 - 17s - loss: 0.3220 - accuracy: 0.8955 - val_loss: 0.2956 - val_accuracy: 0.9031 - 17s/epoch - 481ms/step\n",
            "Epoch 27/1000\n",
            "35/35 - 15s - loss: 0.3197 - accuracy: 0.8879 - val_loss: 0.2919 - val_accuracy: 0.9021 - 15s/epoch - 438ms/step\n",
            "Epoch 28/1000\n",
            "35/35 - 15s - loss: 0.2801 - accuracy: 0.9098 - val_loss: 0.2568 - val_accuracy: 0.9219 - 15s/epoch - 424ms/step\n",
            "Epoch 29/1000\n",
            "35/35 - 15s - loss: 0.3178 - accuracy: 0.8991 - val_loss: 0.2464 - val_accuracy: 0.9167 - 15s/epoch - 441ms/step\n",
            "Epoch 30/1000\n",
            "35/35 - 15s - loss: 0.3003 - accuracy: 0.9058 - val_loss: 0.2319 - val_accuracy: 0.9302 - 15s/epoch - 425ms/step\n",
            "Epoch 31/1000\n",
            "35/35 - 16s - loss: 0.2803 - accuracy: 0.9031 - val_loss: 0.2535 - val_accuracy: 0.9208 - 16s/epoch - 443ms/step\n",
            "Epoch 32/1000\n",
            "\n",
            "Akurasi telah mencapai >92%!\n",
            "35/35 - 15s - loss: 0.2423 - accuracy: 0.9219 - val_loss: 0.2189 - val_accuracy: 0.9229 - 15s/epoch - 440ms/step\n"
          ]
        }
      ],
      "source": [
        "from PIL import ImageFile\n",
        "ImageFile.LOAD_TRUNCATED_IMAGES = True\n",
        "\n",
        "opt = tf.keras.optimizers.RMSprop(learning_rate=0.0001)\n",
        "\n",
        "model.compile(loss='categorical_crossentropy',\n",
        "              optimizer=opt,\n",
        "              metrics=['accuracy'])\n",
        "\n",
        "class myCallback(tf.keras.callbacks.Callback):\n",
        "  def on_epoch_end(self, epoch, logs={}):\n",
        "    if(logs.get('accuracy')>0.92 and logs.get('val_accuracy')>0.92):\n",
        "      print(\"\\nAkurasi telah mencapai >92%!\")\n",
        "      self.model.stop_training = True\n",
        "callbacks = myCallback()\n",
        "\n",
        "history = model.fit(\n",
        "      train_generator,\n",
        "      steps_per_epoch=35,\n",
        "      epochs=1000,\n",
        "      validation_data=validation_generator,\n",
        "      validation_steps=15,\n",
        "      verbose=2,\n",
        "      callbacks=[callbacks])"
      ]
    },
    {
      "cell_type": "code",
      "source": [
        "plt.plot(history.history['loss'])\n",
        "plt.title('Model loss')\n",
        "plt.ylabel('Loss')\n",
        "plt.xlabel('Epoch')\n",
        "plt.legend(['Train'], loc='upper right')\n",
        "plt.show()"
      ],
      "metadata": {
        "id": "sfZdfM6qLuc9",
        "colab": {
          "base_uri": "https://localhost:8080/",
          "height": 472
        },
        "outputId": "aaac8603-3c93-4f5e-8cef-c058bab75c80"
      },
      "execution_count": null,
      "outputs": [
        {
          "output_type": "display_data",
          "data": {
            "text/plain": [
              "<Figure size 640x480 with 1 Axes>"
            ],
            "image/png": "[encoded data removed]"
          },
          "metadata": {}
        }
      ]
    },
    {
      "cell_type": "code",
      "source": [
        "plt.plot(history.history['accuracy'])\n",
        "plt.title('Model accuracy')\n",
        "plt.ylabel('Accuracy')\n",
        "plt.xlabel('Epoch')\n",
        "plt.legend(['Train'], loc='upper right')\n",
        "plt.show()"
      ],
      "metadata": {
        "id": "2ved_asNLuV-",
        "colab": {
          "base_uri": "https://localhost:8080/",
          "height": 472
        },
        "outputId": "bc25f74e-adea-40c8-d797-047d52266e3e"
      },
      "execution_count": null,
      "outputs": [
        {
          "output_type": "display_data",
          "data": {
            "text/plain": [
              "<Figure size 640x480 with 1 Axes>"
            ],
            "image/png": "[encoded data removed]"
          },
          "metadata": {}
        }
      ]
    },
    {
      "cell_type": "code",
      "execution_count": null,
      "metadata": {
        "id": "1jD9uLraTdCC",
        "colab": {
          "base_uri": "https://localhost:8080/"
        },
        "outputId": "32fd562c-932c-4e73-d84d-3f7616b8567a"
      },
      "outputs": [
        {
          "output_type": "execute_result",
          "data": {
            "text/plain": [
              "8908848"
            ]
          },
          "metadata": {},
          "execution_count": 14
        }
      ],
      "source": [
        "import pathlib\n",
        "\n",
        "export_dir = 'saved_model/'\n",
        "tf.saved_model.save(model, export_dir)\n",
        "\n",
        "converter = tf.lite.TFLiteConverter.from_saved_model(export_dir)\n",
        "tflite_model = converter.convert()\n",
        "\n",
        "tflite_model_file = pathlib.Path('parasite.tflite')\n",
        "tflite_model_file.write_bytes(tflite_model)"
      ]
    }
  ],
  "metadata": {
    "accelerator": "GPU",
    "colab": {
      "provenance": [],
      "gpuType": "T4",
      "include_colab_link": true
    },
    "kernelspec": {
      "display_name": "Python 3",
      "name": "python3"
    },
    "language_info": {
      "name": "python"
    }
  },
  "nbformat": 4,
  "nbformat_minor": 0
}